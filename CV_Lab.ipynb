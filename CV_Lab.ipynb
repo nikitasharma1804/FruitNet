{
  "cells": [
    {
      "cell_type": "markdown",
      "metadata": {
        "id": "view-in-github",
        "colab_type": "text"
      },
      "source": [
        "<a href=\"https://colab.research.google.com/github/nikitasharma1804/FruitNet/blob/main/CV_Lab.ipynb\" target=\"_parent\"><img src=\"https://colab.research.google.com/assets/colab-badge.svg\" alt=\"Open In Colab\"/></a>"
      ]
    },
    {
      "cell_type": "code",
      "execution_count": null,
      "metadata": {
        "id": "B8Y7YOkXlQkT",
        "colab": {
          "base_uri": "https://localhost:8080/"
        },
        "outputId": "877f215e-d940-4112-d83a-7a2f9e1100d4"
      },
      "outputs": [
        {
          "output_type": "stream",
          "name": "stdout",
          "text": [
            "Mounted at /content/drive\n"
          ]
        }
      ],
      "source": [
        "from google.colab import drive\n",
        "drive.mount('/content/drive')"
      ]
    },
    {
      "cell_type": "code",
      "execution_count": null,
      "metadata": {
        "id": "fJLeJBg-Y1q_"
      },
      "outputs": [],
      "source": [
        "import numpy as np\n",
        "import os\n",
        "import cv2\n",
        "from sklearn.metrics import confusion_matrix, classification_report\n",
        "from sklearn.model_selection import train_test_split\n",
        "from sklearn.neighbors import KNeighborsClassifier\n",
        "from sklearn.decomposition import PCA\n",
        "\n",
        "import tensorflow as tf\n",
        "from tensorflow import keras\n",
        "from tensorflow.keras.preprocessing.image import ImageDataGenerator\n",
        "from tensorflow.keras.layers import Dense, Activation,Dropout,Conv2D, MaxPooling2D,BatchNormalization, AveragePooling2D, Flatten\n",
        "from tensorflow.keras.optimizers import Adam, Adamax\n",
        "from tensorflow.keras.metrics import categorical_crossentropy\n",
        "from tensorflow.keras import regularizers\n",
        "from tensorflow.keras.models import Model, Sequential\n",
        "# pprevent annoying tensorflow warning\n",
        "import logging\n",
        "logging.getLogger(\"tensorflow\").setLevel(logging.ERROR)\n",
        "import warnings\n",
        "warnings.simplefilter(\"ignore\")"
      ]
    },
    {
      "cell_type": "code",
      "execution_count": null,
      "metadata": {
        "id": "waz-Zpjvfp22"
      },
      "outputs": [],
      "source": [
        "sdir=r'/content/drive/MyDrive/FruitNetDataset'\n",
        "X = [] \n",
        "Y = []\n"
      ]
    },
    {
      "cell_type": "code",
      "execution_count": null,
      "metadata": {
        "id": "3bb_fbY0w00b"
      },
      "outputs": [],
      "source": [
        "a = set()\n",
        "for folder in os.listdir(sdir):#bad/good/mixed\n",
        "  fol_path = sdir + r'/' + folder#fol_path=bad/good/mixed\n",
        "  for fruit in os.listdir(fol_path):#fruit=apple,banan\n",
        "    fr_path = fol_path + r'/' + fruit\n",
        "    name = fruit\n",
        "    if folder == 'Mixed Qualit_Fruits':\n",
        "      name = fruit + '_mixed'\n",
        "    for img in os.listdir(fr_path):#frpath=apple,banana\n",
        "      img_path = fr_path + r'/' + img\n",
        "      img = cv2.imread(img_path)\n",
        "      img = cv2.resize(img, dsize=(64, 64))\n",
        "      X.append(img)\n",
        "      Y.append(name)\n",
        "      a.add(name)"
      ]
    },
    {
      "cell_type": "code",
      "execution_count": null,
      "metadata": {
        "id": "y13a8j6uOrwz"
      },
      "outputs": [],
      "source": [
        "encode = {}\n",
        "decode = {}\n",
        "for i, n in enumerate(a):\n",
        "  encode[n] = i\n",
        "  decode[i] = n"
      ]
    },
    {
      "cell_type": "code",
      "execution_count": null,
      "metadata": {
        "id": "_xBJbCs-Ot9c"
      },
      "outputs": [],
      "source": [
        "target = []\n",
        "for i in Y:\n",
        "  target.append(encode[i])\n",
        "\n",
        "y = np.asarray(target)\n",
        "x = np.asarray(X)"
      ]
    },
    {
      "cell_type": "code",
      "execution_count": null,
      "metadata": {
        "colab": {
          "base_uri": "https://localhost:8080/"
        },
        "id": "1PgvBbhmlcGd",
        "outputId": "53397d29-525a-4740-9e9b-9934528e8491"
      },
      "outputs": [
        {
          "output_type": "execute_result",
          "data": {
            "text/plain": [
              "(19544, 64, 64, 3)"
            ]
          },
          "metadata": {},
          "execution_count": 7
        }
      ],
      "source": [
        "m = x.shape\n",
        "m"
      ]
    },
    {
      "cell_type": "code",
      "execution_count": null,
      "metadata": {
        "colab": {
          "base_uri": "https://localhost:8080/"
        },
        "id": "7gqqV0PlnSx3",
        "outputId": "08b6bb6d-fa0d-4aa0-f3a9-4dcaeeca261a"
      },
      "outputs": [
        {
          "output_type": "execute_result",
          "data": {
            "text/plain": [
              "(19544, 12288)"
            ]
          },
          "metadata": {},
          "execution_count": 10
        }
      ],
      "source": [
        "images = x.reshape(m[0], -1)\n",
        "images.shape"
      ]
    },
    {
      "cell_type": "markdown",
      "metadata": {
        "id": "7hisEzK1IuQh"
      },
      "source": [
        "##**Custom CNN**"
      ]
    },
    {
      "cell_type": "code",
      "execution_count": null,
      "metadata": {
        "id": "A1SzTAK7ItaZ"
      },
      "outputs": [],
      "source": [
        "X_train, X_val, Y_train, Y_val = train_test_split(x, y)"
      ]
    },
    {
      "cell_type": "code",
      "execution_count": null,
      "metadata": {
        "id": "b_5lLCEmIyjo"
      },
      "outputs": [],
      "source": [
        "model = Sequential()\n",
        "\n",
        "model.add(Conv2D(filters=15, kernel_size=(3, 3), activation='relu', input_shape=(64,64,3)))\n",
        "model.add(AveragePooling2D())\n",
        "\n",
        "model.add(Conv2D(filters=36, kernel_size=(3, 3), activation='relu'))\n",
        "model.add(AveragePooling2D())\n",
        "\n",
        "model.add(Conv2D(filters=72, kernel_size=(3, 3), activation='relu'))\n",
        "model.add(AveragePooling2D())\n",
        "\n",
        "model.add(Flatten())\n",
        "\n",
        "model.add(Dense(units=120, activation='relu'))\n",
        "\n",
        "model.add(Dense(units=84, activation='relu'))\n",
        "\n",
        "model.add(Dense(units=18, activation = 'softmax'))"
      ]
    },
    {
      "cell_type": "code",
      "execution_count": null,
      "metadata": {
        "id": "Ei_IPT9aO8z7"
      },
      "outputs": [],
      "source": [
        "model.compile(optimizer = 'adam', loss = 'sparse_categorical_crossentropy', metrics = ['accuracy'])"
      ]
    },
    {
      "cell_type": "code",
      "execution_count": null,
      "metadata": {
        "colab": {
          "base_uri": "https://localhost:8080/"
        },
        "id": "_UKtiyO0PIdo",
        "outputId": "85db440c-a3d0-405e-a1cc-04502eac1862"
      },
      "outputs": [
        {
          "output_type": "stream",
          "name": "stdout",
          "text": [
            "Epoch 1/5\n",
            "459/459 [==============================] - 63s 136ms/step - loss: 0.7723 - accuracy: 0.7567 - val_loss: 0.7490 - val_accuracy: 0.7788\n",
            "Epoch 2/5\n",
            "459/459 [==============================] - 59s 128ms/step - loss: 0.4303 - accuracy: 0.8671 - val_loss: 1.0298 - val_accuracy: 0.6543\n",
            "Epoch 3/5\n",
            "459/459 [==============================] - 57s 125ms/step - loss: 0.3169 - accuracy: 0.8991 - val_loss: 0.3439 - val_accuracy: 0.8979\n",
            "Epoch 4/5\n",
            "459/459 [==============================] - 57s 125ms/step - loss: 0.1987 - accuracy: 0.9358 - val_loss: 0.3418 - val_accuracy: 0.9032\n",
            "Epoch 5/5\n",
            "459/459 [==============================] - 57s 125ms/step - loss: 0.1605 - accuracy: 0.9458 - val_loss: 0.3872 - val_accuracy: 0.8874\n"
          ]
        },
        {
          "output_type": "execute_result",
          "data": {
            "text/plain": [
              "<keras.callbacks.History at 0x7f722565cb90>"
            ]
          },
          "metadata": {},
          "execution_count": 12
        }
      ],
      "source": [
        "model.fit(X_train, Y_train, epochs = 5, batch_size = 32, validation_data = (X_val, Y_val))"
      ]
    },
    {
      "cell_type": "code",
      "source": [
        "# Evaluating the model on test data\n",
        "model.evaluate(X_val , Y_val)"
      ],
      "metadata": {
        "colab": {
          "base_uri": "https://localhost:8080/"
        },
        "id": "nv6dWX6ai5Fm",
        "outputId": "36ce3b2e-db2a-441a-c97c-3629930b6a42"
      },
      "execution_count": null,
      "outputs": [
        {
          "output_type": "stream",
          "name": "stdout",
          "text": [
            "153/153 [==============================] - 7s 43ms/step - loss: 0.3872 - accuracy: 0.8874\n"
          ]
        },
        {
          "output_type": "execute_result",
          "data": {
            "text/plain": [
              "[0.38722628355026245, 0.8874334692955017]"
            ]
          },
          "metadata": {},
          "execution_count": 13
        }
      ]
    },
    {
      "cell_type": "code",
      "source": [
        "import matplotlib.pyplot as plt\n",
        "\n",
        "model.compile(loss='sparse_categorical_crossentropy', optimizer='adam', metrics=['accuracy'])\n",
        "# Fit the model\n",
        "history = model.fit(X_train, Y_train, validation_split=0.33, epochs=5, batch_size=10, verbose=0)\n",
        "# list all data in history\n",
        "print(history.history.keys())\n"
      ],
      "metadata": {
        "colab": {
          "base_uri": "https://localhost:8080/"
        },
        "id": "O_0iXE6zi3w3",
        "outputId": "504d5d60-226c-4b26-a570-8a7f1e1a49ac"
      },
      "execution_count": null,
      "outputs": [
        {
          "output_type": "stream",
          "name": "stdout",
          "text": [
            "dict_keys(['loss', 'accuracy', 'val_loss', 'val_accuracy'])\n"
          ]
        }
      ]
    },
    {
      "cell_type": "code",
      "source": [
        "# summarize history for accuracy\n",
        "plt.plot(history.history['accuracy'])\n",
        "plt.plot(history.history['val_accuracy'])\n",
        "plt.title('model accuracy')\n",
        "plt.ylabel('accuracy')\n",
        "plt.xlabel('epoch')\n",
        "plt.legend(['train', 'test'], loc='upper left')\n",
        "plt.show()\n",
        "# summarize history for loss\n",
        "plt.plot(history.history['loss'])\n",
        "plt.plot(history.history['val_loss'])\n",
        "plt.title('model loss')\n",
        "plt.ylabel('loss')\n",
        "plt.xlabel('epoch')\n",
        "plt.legend(['train', 'test'], loc='upper left')\n",
        "plt.show()"
      ],
      "metadata": {
        "colab": {
          "base_uri": "https://localhost:8080/",
          "height": 573
        },
        "id": "_ipD0TeQn-a9",
        "outputId": "f9cfbeb4-158f-435c-fce6-bbdfd5c3b41b"
      },
      "execution_count": null,
      "outputs": [
        {
          "output_type": "display_data",
          "data": {
            "text/plain": [
              "<Figure size 432x288 with 1 Axes>"
            ],
            "image/png": "[encoded data removed]"
          },
          "metadata": {
            "needs_background": "light"
          }
        },
        {
          "output_type": "display_data",
          "data": {
            "text/plain": [
              "<Figure size 432x288 with 1 Axes>"
            ],
            "image/png": "[encoded data removed]"
          },
          "metadata": {
            "needs_background": "light"
          }
        }
      ]
    },
    {
      "cell_type": "code",
      "source": [
        "from sklearn.metrics import confusion_matrix , classification_report\n",
        "import numpy as np\n",
        "y_pred = model.predict(X_val)\n",
        "y_pred_classes = [np.argmax(element) for element in y_pred]\n",
        "\n",
        "print(\"Classification Report: \\n\", classification_report(Y_val, y_pred_classes))"
      ],
      "metadata": {
        "colab": {
          "base_uri": "https://localhost:8080/"
        },
        "id": "40AoOqyOjWK5",
        "outputId": "89772f6c-d9bd-4490-fa80-5f16633ecd23"
      },
      "execution_count": null,
      "outputs": [
        {
          "output_type": "stream",
          "name": "stdout",
          "text": [
            "Classification Report: \n",
            "               precision    recall  f1-score   support\n",
            "\n",
            "           0       0.96      0.91      0.93       255\n",
            "           1       0.61      0.68      0.64        34\n",
            "           2       0.98      0.97      0.98      1506\n",
            "           3       0.89      0.92      0.90       310\n",
            "           4       0.77      0.64      0.70       289\n",
            "           5       0.88      0.94      0.91       293\n",
            "           6       0.82      0.71      0.76        65\n",
            "           7       0.94      0.91      0.93       274\n",
            "           8       0.83      0.65      0.73        23\n",
            "           9       0.95      0.86      0.90       283\n",
            "          10       0.75      0.47      0.58        38\n",
            "          11       0.58      0.72      0.64        74\n",
            "          12       0.89      0.93      0.91       284\n",
            "          13       0.92      0.97      0.95       256\n",
            "          14       0.86      0.95      0.90       290\n",
            "          15       0.77      0.77      0.77        30\n",
            "          16       0.82      0.88      0.85       276\n",
            "          17       0.94      0.95      0.94       306\n",
            "\n",
            "    accuracy                           0.91      4886\n",
            "   macro avg       0.84      0.82      0.83      4886\n",
            "weighted avg       0.91      0.91      0.91      4886\n",
            "\n"
          ]
        }
      ]
    },
    {
      "cell_type": "markdown",
      "metadata": {
        "id": "xxASxWTCPKN5"
      },
      "source": [
        "ENd of custom cnn"
      ]
    },
    {
      "cell_type": "markdown",
      "source": [
        "##**KNN Model for the Dataset**"
      ],
      "metadata": {
        "id": "4kJP7rGidB5i"
      }
    },
    {
      "cell_type": "code",
      "execution_count": null,
      "metadata": {
        "id": "zDhkhRuCa4XO"
      },
      "outputs": [],
      "source": [
        "pca = PCA(n_components = 120)\n",
        "x_pca = pca.fit_transform(images)"
      ]
    },
    {
      "cell_type": "code",
      "execution_count": null,
      "metadata": {
        "id": "OGLk2X81yFzP"
      },
      "outputs": [],
      "source": [
        "X_train, X_test, Y_train, Y_test = train_test_split(x_pca, y, test_size=0.2)"
      ]
    },
    {
      "cell_type": "code",
      "execution_count": null,
      "metadata": {
        "colab": {
          "base_uri": "https://localhost:8080/"
        },
        "id": "81t9UmZEnUGT",
        "outputId": "659cd15c-0b48-441d-c39b-5de27b8dfc68"
      },
      "outputs": [
        {
          "output_type": "execute_result",
          "data": {
            "text/plain": [
              "KNeighborsClassifier(n_neighbors=1)"
            ]
          },
          "metadata": {},
          "execution_count": 13
        }
      ],
      "source": [
        "from sklearn.neighbors import KNeighborsClassifier\n",
        "# Create KNN classifier\n",
        "knn = KNeighborsClassifier(n_neighbors = 1)\n",
        "# Fit the classifier to the data\n",
        "knn.fit(X_train,Y_train)"
      ]
    },
    {
      "cell_type": "code",
      "execution_count": null,
      "metadata": {
        "colab": {
          "base_uri": "https://localhost:8080/"
        },
        "id": "8BOu1UdFeQC0",
        "outputId": "4026e228-eed0-4a64-d866-53817b83924a"
      },
      "outputs": [
        {
          "output_type": "execute_result",
          "data": {
            "text/plain": [
              "0.9506267587618317"
            ]
          },
          "metadata": {},
          "execution_count": 14
        }
      ],
      "source": [
        "knn.score(X_test, Y_test)"
      ]
    },
    {
      "cell_type": "code",
      "execution_count": null,
      "metadata": {
        "id": "LC3DI4Jp4Cp0"
      },
      "outputs": [],
      "source": [
        "\n",
        "y_pred = knn.predict(X_test)"
      ]
    },
    {
      "cell_type": "code",
      "execution_count": null,
      "metadata": {
        "colab": {
          "base_uri": "https://localhost:8080/"
        },
        "id": "l1GFYxGleKUK",
        "outputId": "ea2c12df-3829-4546-eec0-877bae181175"
      },
      "outputs": [
        {
          "output_type": "stream",
          "name": "stdout",
          "text": [
            "              precision    recall  f1-score   support\n",
            "\n",
            "           0       0.97      0.97      0.97       216\n",
            "           1       0.97      0.96      0.96       209\n",
            "           2       0.88      0.85      0.87       216\n",
            "           3       0.99      0.97      0.98       230\n",
            "           4       0.89      0.86      0.88        66\n",
            "           5       0.98      0.99      0.98       242\n",
            "           6       0.94      1.00      0.97      1195\n",
            "           7       0.96      0.99      0.97       242\n",
            "           8       0.87      0.72      0.79        18\n",
            "           9       0.83      0.86      0.85        29\n",
            "          10       0.91      0.95      0.93        21\n",
            "          11       0.97      0.65      0.78       249\n",
            "          12       0.89      0.95      0.92        59\n",
            "          13       1.00      0.89      0.94        28\n",
            "          14       0.94      0.99      0.97       223\n",
            "          15       0.98      0.97      0.98       203\n",
            "          16       0.97      0.98      0.97       238\n",
            "          17       0.95      0.97      0.96       225\n",
            "\n",
            "    accuracy                           0.95      3909\n",
            "   macro avg       0.94      0.92      0.93      3909\n",
            "weighted avg       0.95      0.95      0.95      3909\n",
            "\n"
          ]
        }
      ],
      "source": [
        "from sklearn.metrics import classification_report\n",
        "print(classification_report(Y_test, y_pred))"
      ]
    },
    {
      "cell_type": "code",
      "execution_count": null,
      "metadata": {
        "colab": {
          "base_uri": "https://localhost:8080/"
        },
        "id": "b3UaUsbLdmP7",
        "outputId": "c446bd22-0dd7-4152-843e-95e55c04f312"
      },
      "outputs": [
        {
          "output_type": "stream",
          "name": "stdout",
          "text": [
            "[[ 210    0    0    1    0    0    0    5    0    0    0    0    0    0\n",
            "     0    0    0    0]\n",
            " [   0  200    1    0    0    0    1    0    0    0    0    1    2    0\n",
            "     3    0    0    1]\n",
            " [   2    3  184    0    1    0   13    1    0    1    0    3    1    0\n",
            "     3    0    3    1]\n",
            " [   0    0    1  224    0    0    1    0    0    0    0    0    0    0\n",
            "     2    1    0    1]\n",
            " [   0    0    2    0   57    0    4    0    0    1    0    0    0    0\n",
            "     0    0    2    0]\n",
            " [   0    0    1    0    0  239    0    1    0    0    0    0    0    0\n",
            "     1    0    0    0]\n",
            " [   0    0    0    1    0    2 1192    0    0    0    0    0    0    0\n",
            "     0    0    0    0]\n",
            " [   0    0    0    0    0    0    0  240    2    0    0    0    0    0\n",
            "     0    0    0    0]\n",
            " [   0    0    0    0    0    0    4    0   13    0    1    0    0    0\n",
            "     0    0    0    0]\n",
            " [   0    1    0    0    0    0    1    0    0   25    0    0    1    0\n",
            "     1    0    0    0]\n",
            " [   0    0    0    0    0    0    1    0    0    0   20    0    0    0\n",
            "     0    0    0    0]\n",
            " [   1    2   19    1    4    3   40    3    0    0    0  161    1    0\n",
            "     2    2    3    7]\n",
            " [   1    0    0    0    1    0    1    0    0    0    0    0   56    0\n",
            "     0    0    0    0]\n",
            " [   0    0    0    0    0    0    1    0    0    1    1    0    0   25\n",
            "     0    0    0    0]\n",
            " [   1    0    0    0    0    0    0    0    0    0    0    0    1    0\n",
            "   221    0    0    0]\n",
            " [   0    0    1    0    0    0    4    0    0    0    0    0    0    0\n",
            "     1  197    0    0]\n",
            " [   0    0    0    0    1    0    0    0    0    1    0    1    0    0\n",
            "     0    0  234    1]\n",
            " [   2    0    0    0    0    0    1    1    0    1    0    0    1    0\n",
            "     1    0    0  218]]\n"
          ]
        }
      ],
      "source": [
        "from sklearn.metrics import confusion_matrix\n",
        "print(confusion_matrix(Y_test, y_pred))"
      ]
    },
    {
      "cell_type": "markdown",
      "source": [
        "##**NN Model for the Dataset**"
      ],
      "metadata": {
        "id": "UymwrtTOc2ZM"
      }
    },
    {
      "cell_type": "code",
      "execution_count": null,
      "metadata": {
        "id": "A7M22X57Wsmz"
      },
      "outputs": [],
      "source": [
        "# Splitting dataset into 80:20 ratio\n",
        "from sklearn.model_selection import train_test_split\n",
        "X_train, X_test, y_train, y_test = train_test_split(x,y, test_size = 0.2, random_state=123)"
      ]
    },
    {
      "cell_type": "code",
      "execution_count": null,
      "metadata": {
        "colab": {
          "base_uri": "https://localhost:8080/"
        },
        "id": "TKOTwHB7W_sD",
        "outputId": "83b66b5a-7f36-4b76-ca18-afdc4f618b65"
      },
      "outputs": [
        {
          "output_type": "stream",
          "name": "stdout",
          "text": [
            "(15635, 64, 64, 3)\n",
            "(15635,)\n",
            "(3909, 64, 64, 3)\n",
            "(3909,)\n"
          ]
        }
      ],
      "source": [
        "print(X_train.shape)\n",
        "print(y_train.shape)\n",
        "print(X_test.shape)\n",
        "print(y_test.shape)"
      ]
    },
    {
      "cell_type": "code",
      "execution_count": null,
      "metadata": {
        "id": "SsdPolKtyuSW"
      },
      "outputs": [],
      "source": [
        "X_train = X_train / 255.0\n",
        "X_test = X_test / 255.0"
      ]
    },
    {
      "cell_type": "code",
      "execution_count": null,
      "metadata": {
        "colab": {
          "base_uri": "https://localhost:8080/"
        },
        "id": "Y3img-Os0s4J",
        "outputId": "32fb2749-f7b4-404f-9c55-7bf027083694"
      },
      "outputs": [
        {
          "output_type": "stream",
          "name": "stdout",
          "text": [
            "Epoch 1/10\n",
            "489/489 [==============================] - 3s 5ms/step - loss: 2.3815 - accuracy: 0.3073\n",
            "Epoch 2/10\n",
            "489/489 [==============================] - 3s 5ms/step - loss: 1.8743 - accuracy: 0.4253\n",
            "Epoch 3/10\n",
            "489/489 [==============================] - 3s 5ms/step - loss: 1.4840 - accuracy: 0.5496\n",
            "Epoch 4/10\n",
            "489/489 [==============================] - 3s 5ms/step - loss: 1.3092 - accuracy: 0.5964\n",
            "Epoch 5/10\n",
            "489/489 [==============================] - 3s 5ms/step - loss: 1.2188 - accuracy: 0.6161\n",
            "Epoch 6/10\n",
            "489/489 [==============================] - 2s 5ms/step - loss: 1.1634 - accuracy: 0.6351\n",
            "Epoch 7/10\n",
            "489/489 [==============================] - 3s 5ms/step - loss: 1.1283 - accuracy: 0.6445\n",
            "Epoch 8/10\n",
            "489/489 [==============================] - 3s 5ms/step - loss: 1.0915 - accuracy: 0.6556\n",
            "Epoch 9/10\n",
            "489/489 [==============================] - 3s 6ms/step - loss: 1.0304 - accuracy: 0.6762\n",
            "Epoch 10/10\n",
            "489/489 [==============================] - 3s 5ms/step - loss: 1.0221 - accuracy: 0.6755\n"
          ]
        },
        {
          "output_type": "execute_result",
          "data": {
            "text/plain": [
              "<keras.callbacks.History at 0x7f5db9fcc990>"
            ]
          },
          "metadata": {},
          "execution_count": 11
        }
      ],
      "source": [
        "\n",
        "# first neural network with keras tutorial\n",
        "from numpy import loadtxt\n",
        "from keras.models import Sequential\n",
        "from tensorflow.keras import layers,models\n",
        "from keras.layers import Dense\n",
        "\n",
        "# split into input (X) and output (y) variables\n",
        "\n",
        "# define the keras model\n",
        "\n",
        "'''\n",
        "model = Sequential()\n",
        "model.add(Dense(12, input_shape=(32,32,3), activation='relu'))\n",
        "model.add(Dense(8, activation='relu'))\n",
        "model.add(Dense(1, activation='sigmoid'))'''\n",
        "model=models.Sequential([\n",
        "        layers.Flatten(input_shape=(64,64,3)),\n",
        "        layers.Dense(10, activation='relu'),\n",
        "        layers.Dense(12, activation='relu'),\n",
        "        layers.Dense(18, activation='softmax')    \n",
        "    ])\n",
        "# compile the keras model\n",
        "model.compile(loss='sparse_categorical_crossentropy', optimizer='adam', metrics=['accuracy'])\n",
        "# fit the keras model on the dataset\n",
        "model.fit(X_train, y_train, epochs=10)\n",
        "# evaluate the keras model\n",
        "# _, accuracy = model.evaluate(train_data, train_label)\n",
        "# print('Accuracy: %.2f' % (accuracy*100))"
      ]
    },
    {
      "cell_type": "code",
      "execution_count": null,
      "metadata": {
        "colab": {
          "base_uri": "https://localhost:8080/"
        },
        "id": "wKe4OGhyGGs-",
        "outputId": "ab5652fe-81e8-41b1-cb48-e98d85ded4c1"
      },
      "outputs": [
        {
          "output_type": "stream",
          "name": "stdout",
          "text": [
            "123/123 [==============================] - 1s 3ms/step - loss: 0.9994 - accuracy: 0.6969\n"
          ]
        },
        {
          "output_type": "execute_result",
          "data": {
            "text/plain": [
              "[0.9993882179260254, 0.6968533992767334]"
            ]
          },
          "metadata": {},
          "execution_count": 12
        }
      ],
      "source": [
        "model.evaluate(X_test , y_test)"
      ]
    },
    {
      "cell_type": "code",
      "execution_count": null,
      "metadata": {
        "colab": {
          "base_uri": "https://localhost:8080/",
          "height": 590
        },
        "id": "plii0CSg1HNb",
        "outputId": "bded70f9-6f85-46d9-b395-2cc925bc6203"
      },
      "outputs": [
        {
          "output_type": "stream",
          "name": "stdout",
          "text": [
            "dict_keys(['loss', 'accuracy', 'val_loss', 'val_accuracy'])\n"
          ]
        },
        {
          "output_type": "display_data",
          "data": {
            "text/plain": [
              "<Figure size 432x288 with 1 Axes>"
            ],
            "image/png": "[encoded data removed]"
          },
          "metadata": {
            "needs_background": "light"
          }
        },
        {
          "output_type": "display_data",
          "data": {
            "text/plain": [
              "<Figure size 432x288 with 1 Axes>"
            ],
            "image/png": "[encoded data removed]"
          },
          "metadata": {
            "needs_background": "light"
          }
        }
      ],
      "source": [
        "import matplotlib.pyplot as plt\n",
        "\n",
        "model.compile(loss='sparse_categorical_crossentropy', optimizer='adam', metrics=['accuracy'])\n",
        "# Fit the model\n",
        "history = model.fit(X_train, y_train, validation_split=0.33, epochs=10, batch_size=10, verbose=0)\n",
        "# list all data in history\n",
        "print(history.history.keys())\n",
        "# summarize history for accuracy\n",
        "plt.plot(history.history['accuracy'])\n",
        "plt.plot(history.history['val_accuracy'])\n",
        "plt.title('model accuracy')\n",
        "plt.ylabel('accuracy')\n",
        "plt.xlabel('epoch')\n",
        "plt.legend(['train', 'test'], loc='upper left')\n",
        "plt.show()\n",
        "# summarize history for loss\n",
        "plt.plot(history.history['loss'])\n",
        "plt.plot(history.history['val_loss'])\n",
        "plt.title('model loss')\n",
        "plt.ylabel('loss')\n",
        "plt.xlabel('epoch')\n",
        "plt.legend(['train', 'test'], loc='upper left')\n",
        "plt.show()"
      ]
    },
    {
      "cell_type": "code",
      "execution_count": null,
      "metadata": {
        "colab": {
          "base_uri": "https://localhost:8080/"
        },
        "id": "dSPy9ihR1lyv",
        "outputId": "0633edc2-0cea-483b-b129-3bf17fec486f"
      },
      "outputs": [
        {
          "output_type": "stream",
          "name": "stdout",
          "text": [
            "Classification Report: \n",
            "               precision    recall  f1-score   support\n",
            "\n",
            "           0       0.64      0.74      0.69       235\n",
            "           1       0.21      0.14      0.17        22\n",
            "           2       0.44      0.69      0.54       240\n",
            "           3       0.59      0.54      0.56       231\n",
            "           4       0.24      0.24      0.24       199\n",
            "           5       0.82      0.97      0.89      1196\n",
            "           6       0.67      0.09      0.15        23\n",
            "           7       0.96      0.68      0.80       227\n",
            "           8       0.78      0.71      0.74       219\n",
            "           9       0.57      0.61      0.59       219\n",
            "          10       0.39      0.34      0.36       229\n",
            "          11       0.00      0.00      0.00        39\n",
            "          12       0.00      0.00      0.00        26\n",
            "          13       1.00      0.07      0.14        54\n",
            "          14       1.00      0.02      0.04        56\n",
            "          15       0.53      0.61      0.56       208\n",
            "          16       0.75      0.79      0.77       261\n",
            "          17       0.57      0.23      0.33       225\n",
            "\n",
            "    accuracy                           0.66      3909\n",
            "   macro avg       0.56      0.41      0.42      3909\n",
            "weighted avg       0.66      0.66      0.64      3909\n",
            "\n"
          ]
        }
      ],
      "source": [
        "from sklearn.metrics import confusion_matrix , classification_report\n",
        "import numpy as np\n",
        "y_pred = model.predict(X_test)\n",
        "y_pred_classes = [np.argmax(element) for element in y_pred]\n",
        "\n",
        "print(\"Classification Report: \\n\", classification_report(y_test, y_pred_classes))"
      ]
    },
    {
      "cell_type": "markdown",
      "source": [
        ""
      ],
      "metadata": {
        "id": "4w6nmCJGdPBD"
      }
    },
    {
      "cell_type": "code",
      "execution_count": null,
      "metadata": {
        "id": "g53E4og1DuRq"
      },
      "outputs": [],
      "source": [
        "from tensorflow.keras import datasets, layers, models\n",
        "import tensorflow as tf\n",
        "\n",
        "def cnn_model_fn():\n",
        "      input_layers = (64,64,3) \n",
        "      model = tf.keras.models.Sequential() \n",
        "\n",
        "    # first Convolutional Layer\n",
        "      model.add(layers.Conv2D(\n",
        "      input_shape=input_layers,\n",
        "      filters=14,\n",
        "      kernel_size=[3, 3],\n",
        "      padding=\"same\",\n",
        "      activation=tf.nn.relu))\n",
        "    \n",
        "      # first Pooling Layer \n",
        "      model.add(layers.MaxPooling2D(input_shape=input_layers, pool_size=[2, 2], strides=2))\n",
        "\n",
        "      # second convolutional layer\n",
        "      model.add(layers.Conv2D(input_shape=input_layers,\n",
        "      filters=36,\n",
        "      kernel_size=[3, 3],\n",
        "      padding=\"same\",\n",
        "      activation=tf.nn.relu))\n",
        "\n",
        "      # second pooling layer\n",
        "      model.add(layers.MaxPooling2D(input_shape=input_layers, pool_size=[2, 2], strides=2))\n",
        "    \n",
        "      model.add(layers.Flatten())\n",
        "      model.add(layers.Dense(\n",
        "        units = 2000,\n",
        "        activation = tf.nn.relu\n",
        "        ))\n",
        "      \n",
        "      model.add(layers.Dense(\n",
        "        units = 1000,\n",
        "        activation = tf.nn.relu\n",
        "        ))\n",
        "      \n",
        "      return model"
      ]
    },
    {
      "cell_type": "code",
      "execution_count": null,
      "metadata": {
        "colab": {
          "base_uri": "https://localhost:8080/"
        },
        "id": "lg-8UDDMD1oy",
        "outputId": "00277fc3-2fe4-4ac7-b8aa-81466823f368"
      },
      "outputs": [
        {
          "name": "stdout",
          "output_type": "stream",
          "text": [
            "Epoch 1/10\n",
            "489/489 [==============================] - 145s 295ms/step - loss: 15.9324 - accuracy: 0.0574 - val_loss: 15.9570 - val_accuracy: 0.0614\n",
            "Epoch 2/10\n",
            "489/489 [==============================] - 148s 303ms/step - loss: 15.9514 - accuracy: 0.0576 - val_loss: 15.9570 - val_accuracy: 0.0614\n",
            "Epoch 3/10\n",
            "489/489 [==============================] - 146s 298ms/step - loss: 15.9514 - accuracy: 0.0576 - val_loss: 15.9570 - val_accuracy: 0.0614\n",
            "Epoch 4/10\n",
            " 87/489 [====>.........................] - ETA: 1:55 - loss: 15.8041 - accuracy: 0.0607"
          ]
        }
      ],
      "source": [
        "cnn = cnn_model_fn()\n",
        "cnn.compile(optimizer=tf.keras.optimizers.Adam(learning_rate=0.5),\n",
        "              loss='sparse_categorical_crossentropy',\n",
        "              metrics=['accuracy'])\n",
        "\n",
        "model = cnn.fit(X_train, y_train, validation_data = (X_test, y_test),epochs=10)"
      ]
    },
    {
      "cell_type": "code",
      "execution_count": null,
      "metadata": {
        "id": "K0BtN4AqD4Ww"
      },
      "outputs": [],
      "source": [
        "# Evaluating the model on test data\n",
        "cnn.evaluate(X_test , y_test)"
      ]
    },
    {
      "cell_type": "code",
      "execution_count": null,
      "metadata": {
        "id": "bSL7OD5gD5FJ"
      },
      "outputs": [],
      "source": [
        "# Function for plotting learning of the model\n",
        "\n",
        "import matplotlib.pyplot as plt\n",
        "def plot_history(history):\n",
        "    \"\"\"Plots accuracy/loss for training/validation set as a function of the epochs\n",
        "\n",
        "    :param history: Training history of model\n",
        "    :return:\n",
        "    \"\"\"\n",
        "\n",
        "    fig, axs = plt.subplots(2)\n",
        "\n",
        "    # create accuracy subplot\n",
        "    axs[0].plot(history.history[\"accuracy\"], label=\"accuracy\")\n",
        "    axs[0].plot(history.history['val_accuracy'], label=\"val_accuracy\")\n",
        "    axs[0].set_ylabel(\"Accuracy\")\n",
        "    axs[0].legend(loc=\"lower right\")\n",
        "    axs[0].set_title(\"Accuracy evaluation\")\n",
        "\n",
        "    # create loss subplot\n",
        "    axs[1].plot(history.history[\"loss\"], label=\"loss\")\n",
        "    axs[1].plot(history.history['val_loss'], label=\"val_loss\")\n",
        "    axs[1].set_xlabel(\"Epoch\")\n",
        "    axs[1].set_ylabel(\"Loss\")\n",
        "    axs[1].legend(loc=\"upper right\")\n",
        "    axs[1].set_title(\"Loss evaluation\")"
      ]
    },
    {
      "cell_type": "code",
      "execution_count": null,
      "metadata": {
        "id": "E73UbobVD-xw"
      },
      "outputs": [],
      "source": [
        "plot_history(model)"
      ]
    },
    {
      "cell_type": "markdown",
      "source": [
        " **Transfer Learning**"
      ],
      "metadata": {
        "id": "ppcZPfSPck1Z"
      }
    },
    {
      "cell_type": "code",
      "execution_count": null,
      "metadata": {
        "id": "bxTcVNsjcKjV"
      },
      "outputs": [],
      "source": [
        "import numpy as np\n",
        "import pandas as pd\n",
        "import os\n",
        "import time\n",
        "import matplotlib.pyplot as plt\n",
        "import cv2\n",
        "import seaborn as sns\n",
        "sns.set_style('darkgrid')\n",
        "import shutil\n",
        "from sklearn.metrics import confusion_matrix, classification_report\n",
        "from sklearn.model_selection import train_test_split\n",
        "import tensorflow as tf\n",
        "from tensorflow import keras\n",
        "from tensorflow.keras.preprocessing.image import ImageDataGenerator\n",
        "from tensorflow.keras.layers import Dense, Activation,Dropout,Conv2D, MaxPooling2D,BatchNormalization\n",
        "from tensorflow.keras.optimizers import Adam, Adamax\n",
        "from tensorflow.keras.metrics import categorical_crossentropy\n",
        "from tensorflow.keras import regularizers\n",
        "from tensorflow.keras.models import Model"
      ]
    },
    {
      "cell_type": "code",
      "execution_count": null,
      "metadata": {
        "id": "tFwddwzYbNdo"
      },
      "outputs": [],
      "source": [
        "sdir=r'/content/drive/MyDrive/FruitNetDataset'\n",
        "bad_path=r'/content/drive/MyDrive/FruitNetDataset/Bad Quality_Fruits'\n",
        "good_path=r'/content/drive/MyDrive/FruitNetDataset/Good Quality_Fruits'\n",
        "mixed_path=r'/content/drive/MyDrive/FruitNetDataset/Mixed Qualit_Fruits'\n",
        "filepaths=[]\n",
        "labels=[]\n",
        "ht=0\n",
        "wt=0\n",
        "samples=0\n",
        "sample_count=20\n",
        "for quality in [bad_path, good_path, mixed_path]:    \n",
        "    fruit_list=os.listdir(quality)\n",
        "    for fruit in fruit_list:\n",
        "        fruit_path=os.path.join(quality, fruit)\n",
        "        img_list=os.listdir(fruit_path)\n",
        "        for i, img in enumerate(img_list):\n",
        "            img_path=os.path.join(fruit_path, img)\n",
        "            if i < sample_count:\n",
        "                img=plt.imread(img_path)               \n",
        "                ht += img.shape[0]\n",
        "                wt += img.shape[1]\n",
        "                samples +=1\n",
        "            filepaths.append(img_path)\n",
        "            if quality == mixed_path:\n",
        "                labels.append(fruit + '_mixed')\n",
        "            else:\n",
        "                labels.append(fruit)\n",
        "Fseries = pd.Series(filepaths, name='filepaths')\n",
        "Lseries = pd.Series(labels, name='labels')\n",
        "df=pd.concat([Fseries, Lseries], axis=1)\n",
        "# split df into a train_df a valid_df and a test_df\n",
        "trsplit=.9\n",
        "vsplit=.05\n",
        "dsplit =vsplit/(1-trsplit)\n",
        "strat=df['labels']\n",
        "train_df, dummy_df=train_test_split(df, train_size=.9, shuffle=True, random_state=123, stratify=strat)\n",
        "strat=dummy_df['labels']\n",
        "test_df, valid_df=train_test_split(dummy_df, train_size=dsplit, shuffle=True, random_state=123, stratify=strat)\n",
        "print('train_df lenght: ', len(train_df), '  test_df length: ', len(test_df), '  valid_df length: ', len(valid_df))\n",
        "classes=list(train_df['labels'].unique())\n",
        "class_count = len(classes)\n",
        "groups=df.groupby('labels')\n",
        "print('{0:^30s} {1:^13s}'.format('CLASS', 'IMAGE COUNT'))\n",
        "for label in train_df['labels'].unique():\n",
        "      group=groups.get_group(label)\n",
        "      samples=len(group)\n",
        "      print('{0:^30s} {1:^13s}'.format(label, str(len(group))))\n",
        "wave=wt/samples\n",
        "have=ht/samples\n",
        "aspect_ratio= have/wave\n",
        "print ('Average Image Height: ' ,have, '  Average Image Width: ', wave, '  Aspect ratio: ', aspect_ratio)"
      ]
    },
    {
      "cell_type": "code",
      "execution_count": null,
      "metadata": {
        "id": "Bd-flqzGbNzT"
      },
      "outputs": [],
      "source": [
        "def trim (df, max_size, min_size, column):\n",
        "    df=df.copy()\n",
        "    original_class_count= len(list(df[column].unique()))\n",
        "    print ('Original Number of classes in dataframe: ', original_class_count)\n",
        "    sample_list=[] \n",
        "    groups=df.groupby(column)\n",
        "    for label in df[column].unique():        \n",
        "        group=groups.get_group(label)\n",
        "        sample_count=len(group)         \n",
        "        if sample_count> max_size :\n",
        "            strat=group[column]\n",
        "            samples,_=train_test_split(group, train_size=max_size, shuffle=True, random_state=123, stratify=strat)            \n",
        "            sample_list.append(samples)\n",
        "        elif sample_count>= min_size:\n",
        "            sample_list.append(group)\n",
        "    df=pd.concat(sample_list, axis=0).reset_index(drop=True)\n",
        "    final_class_count= len(list(df[column].unique())) \n",
        "    if final_class_count != original_class_count:\n",
        "        print ('*** WARNING***  dataframe has a reduced number of classes' )\n",
        "    balance=list(df[column].value_counts())\n",
        "    print (balance)\n",
        "    return df"
      ]
    },
    {
      "cell_type": "code",
      "execution_count": null,
      "metadata": {
        "id": "q1IsZv4tbN2a"
      },
      "outputs": [],
      "source": [
        "max_samples=200\n",
        "min_samples=0\n",
        "column = 'labels'\n",
        "train_df=trim(train_df, max_samples, min_samples, column)"
      ]
    },
    {
      "cell_type": "code",
      "execution_count": null,
      "metadata": {
        "id": "2k1_xpjZbN5S"
      },
      "outputs": [],
      "source": [
        "def balance(train_df,max_samples, min_samples, column, working_dir, image_size):\n",
        "    train_df=train_df.copy()\n",
        "    train_df=trim (train_df, max_samples, min_samples, column)    \n",
        "    # make directories to store augmented images\n",
        "    aug_dir=os.path.join(working_dir, 'aug')\n",
        "    if os.path.isdir(aug_dir):\n",
        "        shutil.rmtree(aug_dir)\n",
        "    os.mkdir(aug_dir)\n",
        "    for label in train_df['labels'].unique():    \n",
        "        dir_path=os.path.join(aug_dir,label)    \n",
        "        os.mkdir(dir_path)\n",
        "    # create and store the augmented images  \n",
        "    total=0\n",
        "    gen=ImageDataGenerator(horizontal_flip=True,  rotation_range=20, width_shift_range=.2,\n",
        "                                  height_shift_range=.2, zoom_range=.2)\n",
        "    groups=train_df.groupby('labels') # group by class\n",
        "    for label in train_df['labels'].unique():  # for every class               \n",
        "        group=groups.get_group(label)  # a dataframe holding only rows with the specified label \n",
        "        sample_count=len(group)   # determine how many samples there are in this class  \n",
        "        if sample_count< max_samples: # if the class has less than target number of images\n",
        "            aug_img_count=0\n",
        "            delta=max_samples-sample_count  # number of augmented images to create\n",
        "            target_dir=os.path.join(aug_dir, label)  # define where to write the images    \n",
        "            aug_gen=gen.flow_from_dataframe( group,  x_col='filepaths', y_col=None, target_size=image_size,\n",
        "                                            class_mode=None, batch_size=1, shuffle=False, \n",
        "                                            save_to_dir=target_dir, save_prefix='aug-', color_mode='rgb',\n",
        "                                            save_format='jpg')\n",
        "            while aug_img_count<delta:\n",
        "                images=next(aug_gen)            \n",
        "                aug_img_count += len(images)\n",
        "            total +=aug_img_count\n",
        "    print('Total Augmented images created= ', total)\n",
        "    # create aug_df and merge with train_df to create composite training set ndf\n",
        "    if total>0:\n",
        "        aug_fpaths=[]\n",
        "        aug_labels=[]\n",
        "        classlist=os.listdir(aug_dir)\n",
        "        for klass in classlist:\n",
        "            classpath=os.path.join(aug_dir, klass)     \n",
        "            flist=os.listdir(classpath)    \n",
        "            for f in flist:        \n",
        "                fpath=os.path.join(classpath,f)         \n",
        "                aug_fpaths.append(fpath)\n",
        "                aug_labels.append(klass)\n",
        "        Fseries=pd.Series(aug_fpaths, name='filepaths')\n",
        "        Lseries=pd.Series(aug_labels, name='labels')\n",
        "        aug_df=pd.concat([Fseries, Lseries], axis=1)\n",
        "        train_df=pd.concat([train_df,aug_df], axis=0).reset_index(drop=True)\n",
        "   \n",
        "    print (list(train_df['labels'].value_counts()) )\n",
        "    return train_df "
      ]
    },
    {
      "cell_type": "code",
      "execution_count": null,
      "metadata": {
        "id": "oWI3E9vxeF69"
      },
      "outputs": [],
      "source": [
        "working_dir=r'./'\n",
        "img_size=(224,224)\n",
        "train_df=balance(train_df, max_samples, min_samples, column, working_dir, img_size)"
      ]
    },
    {
      "cell_type": "code",
      "execution_count": null,
      "metadata": {
        "id": "owHCvmRceGRB"
      },
      "outputs": [],
      "source": [
        ""
      ]
    },
    {
      "cell_type": "code",
      "execution_count": null,
      "metadata": {
        "id": "93pHgi_LbN78"
      },
      "outputs": [],
      "source": [
        "batch_size=20 # We will use and EfficientetB3 model, with image size of (300,233) this size should not cause resource error\n",
        "trgen=ImageDataGenerator(horizontal_flip=True,rotation_range=20, width_shift_range=.2,\n",
        "                                  height_shift_range=.2, zoom_range=.2 )\n",
        "t_and_v_gen=ImageDataGenerator()\n",
        "train_gen=trgen.flow_from_dataframe(train_df, x_col='filepaths', y_col='labels', target_size=img_size,\n",
        "                                   class_mode='categorical', color_mode='rgb', shuffle=True, batch_size=batch_size)\n",
        "valid_gen=t_and_v_gen.flow_from_dataframe(valid_df, x_col='filepaths', y_col='labels', target_size=img_size,\n",
        "                                   class_mode='categorical', color_mode='rgb', shuffle=False, batch_size=batch_size)\n",
        "# for the test_gen we want to calculate the batch size and test steps such that batch_size X test_steps= number of samples in test set\n",
        "# this insures that we go through all the sample in the test set exactly once.\n",
        "length=len(test_df)\n",
        "test_batch_size=sorted([int(length/n) for n in range(1,length+1) if length % n ==0 and length/n<=80],reverse=True)[0]  \n",
        "test_steps=int(length/test_batch_size)\n",
        "test_gen=t_and_v_gen.flow_from_dataframe(test_df, x_col='filepaths', y_col='labels', target_size=img_size,class_mode='categorical', color_mode='rgb', shuffle=False, batch_size=test_batch_size)\n",
        "# from the generator we can get information we will need later\n",
        "classes=list(train_gen.class_indices.keys())\n",
        "class_indices=list(train_gen.class_indices.values())\n",
        "class_count=len(classes)\n",
        "labels=test_gen.labels\n",
        "print ( 'test batch size: ' ,test_batch_size, '  test steps: ', test_steps, ' number of classes : ', class_count)\n",
        "print ('{0:^25s}{1:^12s}'.format('class name', 'class index'))\n",
        "for klass, index in zip(classes, class_indices):\n",
        "    print(f'{klass:^25s}{str(index):^12s}')\n",
        "                                         "
      ]
    },
    {
      "cell_type": "code",
      "execution_count": null,
      "metadata": {
        "id": "3X9lFU2rczlx"
      },
      "outputs": [],
      "source": [
        "def show_image_samples(gen ):\n",
        "    t_dict=gen.class_indices\n",
        "    classes=list(t_dict.keys())    \n",
        "    images,labels=next(gen) # get a sample batch from the generator \n",
        "    plt.figure(figsize=(20, 20))\n",
        "    length=len(labels)\n",
        "    if length<25:   #show maximum of 25 images\n",
        "        r=length\n",
        "    else:\n",
        "        r=25\n",
        "    for i in range(r):        \n",
        "        plt.subplot(5, 5, i + 1)\n",
        "        image=images[i] /255       \n",
        "        plt.imshow(image)\n",
        "        index=np.argmax(labels[i])\n",
        "        class_name=classes[index]\n",
        "        plt.title(class_name, color='blue', fontsize=12)\n",
        "        plt.axis('off')\n",
        "    plt.show()\n",
        "    \n",
        "show_image_samples(train_gen )"
      ]
    },
    {
      "cell_type": "code",
      "execution_count": null,
      "metadata": {
        "id": "blAqXZxpdCDK"
      },
      "outputs": [],
      "source": [
        "img_shape=(img_size[0], img_size[1], 3)\n",
        "model_name='EfficientNetB5'\n",
        "base_model=tf.keras.applications.efficientnet.EfficientNetB5(include_top=False, weights=\"imagenet\",input_shape=img_shape, pooling='max') \n",
        "# Note you are always told NOT to make the base model trainable initially- that is WRONG you get better results leaving it trainable\n",
        "base_model.trainable=True\n",
        "x=base_model.output\n",
        "x=BatchNormalization(axis=-1, momentum=0.99, epsilon=0.001 )(x)\n",
        "x = Dense(1024, kernel_regularizer = regularizers.l2(l = 0.016),activity_regularizer=regularizers.l1(0.006),\n",
        "                bias_regularizer=regularizers.l1(0.006) ,activation='relu')(x)\n",
        "x=Dropout(rate=.3, seed=123)(x)\n",
        "x = Dense(128, kernel_regularizer = regularizers.l2(l = 0.016),activity_regularizer=regularizers.l1(0.006),\n",
        "                bias_regularizer=regularizers.l1(0.006) ,activation='relu')(x)\n",
        "x=Dropout(rate=.45, seed=123)(x)        \n",
        "output=Dense(class_count, activation='softmax')(x)\n",
        "model=Model(inputs=base_model.input, outputs=output)\n",
        "lr=.001 # start with this learning rate\n",
        "model.compile(Adamax(learning_rate=lr), loss='categorical_crossentropy', metrics=['accuracy']) "
      ]
    },
    {
      "cell_type": "code",
      "execution_count": null,
      "metadata": {
        "id": "iDVbQLjfdCg5"
      },
      "outputs": [],
      "source": [
        "class ASK(keras.callbacks.Callback):\n",
        "    def __init__ (self, model, epochs,  ask_epoch): # initialization of the callback\n",
        "        super(ASK, self).__init__()\n",
        "        self.model=model               \n",
        "        self.ask_epoch=ask_epoch\n",
        "        self.epochs=epochs\n",
        "        self.ask=True # if True query the user on a specified epoch\n",
        "        \n",
        "    def on_train_begin(self, logs=None): # this runs on the beginning of training\n",
        "        if self.ask_epoch == 0: \n",
        "            print('you set ask_epoch = 0, ask_epoch will be set to 1', flush=True)\n",
        "            self.ask_epoch=1\n",
        "        if self.ask_epoch >= self.epochs: # you are running for epochs but ask_epoch>epochs\n",
        "            print('ask_epoch >= epochs, will train for ', epochs, ' epochs', flush=True)\n",
        "            self.ask=False # do not query the user\n",
        "        if self.epochs == 1:\n",
        "            self.ask=False # running only for 1 epoch so do not query user\n",
        "        else:\n",
        "            print('Training will proceed until epoch', ask_epoch,' then you will be asked to') \n",
        "            print(' enter H to halt training or enter an integer for how many more epochs to run then be asked again')  \n",
        "        self.start_time= time.time() # set the time at which training started\n",
        "        def on_train_end(self, logs=None):   # runs at the end of training     \n",
        "            tr_duration=time.time() - self.start_time   # determine how long the training cycle lasted         \n",
        "            hours = tr_duration // 3600\n",
        "            minutes = (tr_duration - (hours * 3600)) // 60\n",
        "            seconds = tr_duration - ((hours * 3600) + (minutes * 60))\n",
        "            msg = f'training elapsed time was {str(hours)} hours, {minutes:4.1f} minutes, {seconds:4.2f} seconds)'\n",
        "            print (msg, flush=True) # print out training duration time\n",
        "        \n",
        "    def on_epoch_end(self, epoch, logs=None):  # method runs on the end of each epoch\n",
        "        if self.ask: # are the conditions right to query the user?\n",
        "            if epoch + 1 ==self.ask_epoch: # is this epoch the one for quering the user?\n",
        "                print('\\n Enter H to end training or  an integer for the number of additional epochs to run then ask again')\n",
        "                ans=input()\n",
        "                \n",
        "                if ans == 'H' or ans =='h' or ans == '0': # quit training for these conditions\n",
        "                    print ('you entered ', ans, ' Training halted on epoch ', epoch+1, ' due to user input\\n', flush=True)\n",
        "                    self.model.stop_training = True # halt training\n",
        "                else: # user wants to continue training\n",
        "                    self.ask_epoch += int(ans)\n",
        "                    if self.ask_epoch > self.epochs:\n",
        "                        print('\\nYou specified maximum epochs of as ', self.epochs, ' cannot train for ', self.ask_epoch, flush =True)\n",
        "                    else:\n",
        "                        print ('you entered ', ans, ' Training will continue to epoch ', self.ask_epoch, flush=True)"
      ]
    },
    {
      "cell_type": "code",
      "execution_count": null,
      "metadata": {
        "id": "0rTrQEy1enbp"
      },
      "outputs": [],
      "source": [
        "epochs=40\n",
        "ask_epoch=5 \n",
        "ask=ASK(model, epochs,  ask_epoch)\n",
        "rlronp=tf.keras.callbacks.ReduceLROnPlateau(monitor=\"val_loss\", factor=0.5, patience=2,verbose=1)\n",
        "estop=tf.keras.callbacks.EarlyStopping(monitor=\"val_loss\", patience=4, verbose=1,restore_best_weights=True)\n",
        "callbacks=[rlronp, estop, ask]"
      ]
    },
    {
      "cell_type": "code",
      "execution_count": null,
      "metadata": {
        "colab": {
          "background_save": true
        },
        "id": "IEeZENA6eqN6",
        "outputId": "f1c4a999-a908-427e-cfbd-9885a1537e77"
      },
      "outputs": [
        {
          "name": "stdout",
          "output_type": "stream",
          "text": [
            "Training will proceed until epoch 5  then you will be asked to\n",
            " enter H to halt training or enter an integer for how many more epochs to run then be asked again\n",
            "Epoch 1/40\n",
            " 84/180 [=============>................] - ETA: 33:27 - loss: 27.5333 - accuracy: 0.4673"
          ]
        }
      ],
      "source": [
        "history=model.fit(x=train_gen,  epochs=epochs, verbose=1, callbacks=callbacks,  validation_data=valid_gen,\n",
        "               validation_steps=None,  shuffle=False,  initial_epoch=0)"
      ]
    },
    {
      "cell_type": "code",
      "execution_count": null,
      "metadata": {
        "id": "BcMy09gfe09X"
      },
      "outputs": [],
      "source": [
        "def tr_plot(tr_data, start_epoch):\n",
        "    #Plot the training and validation data\n",
        "    tacc=tr_data.history['accuracy']\n",
        "    tloss=tr_data.history['loss']\n",
        "    vacc=tr_data.history['val_accuracy']\n",
        "    vloss=tr_data.history['val_loss']\n",
        "    Epoch_count=len(tacc)+ start_epoch\n",
        "    Epochs=[]\n",
        "    for i in range (start_epoch ,Epoch_count):\n",
        "        Epochs.append(i+1)   \n",
        "    index_loss=np.argmin(vloss)#  this is the epoch with the lowest validation loss\n",
        "    val_lowest=vloss[index_loss]\n",
        "    index_acc=np.argmax(vacc)\n",
        "    acc_highest=vacc[index_acc]\n",
        "    plt.style.use('fivethirtyeight')\n",
        "    sc_label='best epoch= '+ str(index_loss+1 +start_epoch)\n",
        "    vc_label='best epoch= '+ str(index_acc + 1+ start_epoch)\n",
        "    fig,axes=plt.subplots(nrows=1, ncols=2, figsize=(20,8))\n",
        "    axes[0].plot(Epochs,tloss, 'r', label='Training loss')\n",
        "    axes[0].plot(Epochs,vloss,'g',label='Validation loss' )\n",
        "    axes[0].scatter(index_loss+1 +start_epoch,val_lowest, s=150, c= 'blue', label=sc_label)\n",
        "    axes[0].set_title('Training and Validation Loss')\n",
        "    axes[0].set_xlabel('Epochs')\n",
        "    axes[0].set_ylabel('Loss')\n",
        "    axes[0].legend()\n",
        "    axes[1].plot (Epochs,tacc,'r',label= 'Training Accuracy')\n",
        "    axes[1].plot (Epochs,vacc,'g',label= 'Validation Accuracy')\n",
        "    axes[1].scatter(index_acc+1 +start_epoch,acc_highest, s=150, c= 'blue', label=vc_label)\n",
        "    axes[1].set_title('Training and Validation Accuracy')\n",
        "    axes[1].set_xlabel('Epochs')\n",
        "    axes[1].set_ylabel('Accuracy')\n",
        "    axes[1].legend()\n",
        "    plt.tight_layout    \n",
        "    plt.show()\n",
        "    \n",
        "tr_plot(history,0)\n"
      ]
    },
    {
      "cell_type": "code",
      "execution_count": null,
      "metadata": {
        "id": "glRkjKw8fD2X"
      },
      "outputs": [],
      "source": [
        "y_pred= []\n",
        "y_true=test_gen.labels\n",
        "errors=0\n",
        "preds=model.predict(test_gen, steps=test_steps, verbose=1) # predict on the test set\n",
        "tests=len(preds)\n",
        "for i, p in enumerate(preds):\n",
        "        pred_index=np.argmax(p)         \n",
        "        true_index=test_gen.labels[i]  # labels are integer values\n",
        "        if pred_index != true_index: # a misclassification has occurred                                           \n",
        "            errors=errors + 1\n",
        "        y_pred.append(pred_index)\n",
        "acc=( 1-errors/tests) * 100\n",
        "print(f'there were {errors} in {tests} tests for an accuracy of {acc:6.2f}')\n",
        "ypred=np.array(y_pred)\n",
        "ytrue=np.array(y_true)\n",
        "cm = confusion_matrix(ytrue, ypred )\n",
        "# plot the confusion matrix\n",
        "plt.figure(figsize=(12, 6))\n",
        "sns.heatmap(cm, annot=True, vmin=0, fmt='g', cmap='Blues', cbar=False)       \n",
        "plt.xticks(np.arange(class_count)+.5, classes, rotation=90)\n",
        "plt.yticks(np.arange(class_count)+.5, classes, rotation=0)\n",
        "plt.xlabel(\"Predicted\")\n",
        "plt.ylabel(\"Actual\")\n",
        "plt.title(\"Confusion Matrix\")\n",
        "plt.show()\n",
        "clr = classification_report(y_true, y_pred, target_names=classes, digits= 4) # create classification report\n",
        "print(\"Classification Report:\\n----------------------\\n\", clr)"
      ]
    },
    {
      "cell_type": "code",
      "execution_count": null,
      "metadata": {
        "id": "Gl2zByfufEPz"
      },
      "outputs": [],
      "source": [
        "subject='Indian Fruit' \n",
        "acc=str(( 1-errors/tests) * 100)\n",
        "index=acc.rfind('.')\n",
        "acc=acc[:index + 3]\n",
        "save_id= subject + '_' + str(acc) + '.h5' \n",
        "model_save_loc=os.path.join(working_dir, save_id)\n",
        "model.save(model_save_loc)\n",
        "print ('model was saved as ' , model_save_loc ) "
      ]
    },
    {
      "cell_type": "markdown",
      "source": [
        "##**CNN Model with regularization**"
      ],
      "metadata": {
        "id": "a_0QDIVvGIIB"
      }
    },
    {
      "cell_type": "code",
      "source": [
        "import os\n",
        "import tensorflow as tf\n",
        "from keras_preprocessing import image\n",
        "from keras_preprocessing.image import ImageDataGenerator\n",
        "from multiprocessing import Pool\n",
        "import matplotlib.pyplot as plt"
      ],
      "metadata": {
        "id": "uEtNyHEEGEsK"
      },
      "execution_count": null,
      "outputs": []
    },
    {
      "cell_type": "code",
      "source": [
        "def show_final_history(history):\n",
        "    fig, ax = plt.subplots(1, 2, figsize=(15,5))\n",
        "    ax[0].set_title('loss')\n",
        "    ax[0].plot(history.epoch, history.history[\"loss\"], label=\"Train loss\")\n",
        "    ax[0].plot(history.epoch, history.history[\"val_loss\"], label=\"Validation loss\")\n",
        "    ax[1].set_title('acc')\n",
        "    ax[1].plot(history.epoch, history.history[\"accuracy\"], label=\"Train acc\")\n",
        "    ax[1].plot(history.epoch, history.history[\"val_accuracy\"], label=\"Validation acc\")\n",
        "    ax[0].legend()\n",
        "    ax[1].legend()"
      ],
      "metadata": {
        "id": "FngT9K0TKR3e"
      },
      "execution_count": null,
      "outputs": []
    },
    {
      "cell_type": "code",
      "source": [
        "data_dir = '../content/drive/MyDrive/FruitNetDataset'\n",
        "augs_gen = ImageDataGenerator(\n",
        "    rescale=1./255,        \n",
        "    validation_split = 0.2\n",
        ")  \n",
        "\n",
        "train_gen = augs_gen.flow_from_directory(\n",
        "    data_dir,\n",
        "    target_size = (224,224),\n",
        "    batch_size=32,\n",
        "    class_mode = 'categorical',\n",
        "    shuffle=True,\n",
        ")\n",
        "\n",
        "val_gen = augs_gen.flow_from_directory(\n",
        "    data_dir,\n",
        "    target_size=(224,224),\n",
        "    batch_size=32,\n",
        "    class_mode='categorical',\n",
        "    shuffle=False,\n",
        "    subset = 'validation'\n",
        ")"
      ],
      "metadata": {
        "colab": {
          "base_uri": "https://localhost:8080/"
        },
        "id": "_mD5ToHEKZZD",
        "outputId": "920c3c5b-9ced-47f0-8592-bfa8e8f48c37"
      },
      "execution_count": null,
      "outputs": [
        {
          "output_type": "stream",
          "name": "stdout",
          "text": [
            "Found 19544 images belonging to 3 classes.\n",
            "Found 3908 images belonging to 3 classes.\n"
          ]
        }
      ]
    },
    {
      "cell_type": "code",
      "source": [
        "model = tf.keras.models.Sequential([\n",
        "    # layer 1\n",
        "    tf.keras.layers.Conv2D(15, (3,3), activation='relu', input_shape=(224, 224, 3)),\n",
        "    tf.keras.layers.MaxPooling2D(2,2),\n",
        "    # layer 2\n",
        "    tf.keras.layers.Conv2D(36, (3,3), activation = 'relu'),\n",
        "    tf.keras.layers.MaxPooling2D(2,2),\n",
        "    # layer 3\n",
        "    tf.keras.layers.Conv2D(72, (3,3), activation = 'relu'),\n",
        "    tf.keras.layers.MaxPooling2D(2,2),\n",
        "    tf.keras.layers.Flatten(),\n",
        "    # layer 5\n",
        "    tf.keras.layers.Dense(84, activation = 'relu'),\n",
        "    # layer 6\n",
        "    tf.keras.layers.Dense(3, activation='softmax')\n",
        "    \n",
        "])\n"
      ],
      "metadata": {
        "id": "Zx9uqbgUKpl2"
      },
      "execution_count": null,
      "outputs": []
    },
    {
      "cell_type": "code",
      "source": [
        "model.summary()\n",
        "model.compile(loss = 'categorical_crossentropy', optimizer='rmsprop', metrics=['accuracy'])\n",
        "history = model.fit(train_gen, epochs=1, validation_data = val_gen, verbose = 1)"
      ],
      "metadata": {
        "colab": {
          "base_uri": "https://localhost:8080/"
        },
        "id": "P-MhbLkeKwvc",
        "outputId": "b46cbe20-a0c3-4047-f715-131eab2f1b66"
      },
      "execution_count": null,
      "outputs": [
        {
          "output_type": "stream",
          "name": "stdout",
          "text": [
            "Model: \"sequential_1\"\n",
            "_________________________________________________________________\n",
            " Layer (type)                Output Shape              Param #   \n",
            "=================================================================\n",
            " conv2d_5 (Conv2D)           (None, 222, 222, 15)      420       \n",
            "                                                                 \n",
            " max_pooling2d_3 (MaxPooling  (None, 111, 111, 15)     0         \n",
            " 2D)                                                             \n",
            "                                                                 \n",
            " conv2d_6 (Conv2D)           (None, 109, 109, 36)      4896      \n",
            "                                                                 \n",
            " max_pooling2d_4 (MaxPooling  (None, 54, 54, 36)       0         \n",
            " 2D)                                                             \n",
            "                                                                 \n",
            " conv2d_7 (Conv2D)           (None, 52, 52, 72)        23400     \n",
            "                                                                 \n",
            " max_pooling2d_5 (MaxPooling  (None, 26, 26, 72)       0         \n",
            " 2D)                                                             \n",
            "                                                                 \n",
            " flatten_1 (Flatten)         (None, 48672)             0         \n",
            "                                                                 \n",
            " dense_2 (Dense)             (None, 84)                4088532   \n",
            "                                                                 \n",
            " dense_3 (Dense)             (None, 3)                 255       \n",
            "                                                                 \n",
            "=================================================================\n",
            "Total params: 4,117,503\n",
            "Trainable params: 4,117,503\n",
            "Non-trainable params: 0\n",
            "_________________________________________________________________\n",
            "611/611 [==============================] - 1238s 2s/step - loss: 0.1264 - accuracy: 0.9600 - val_loss: 0.0667 - val_accuracy: 0.9754\n"
          ]
        }
      ]
    },
    {
      "cell_type": "code",
      "source": [
        "import matplotlib.pyplot as plt\n",
        "# summarize history for accuracy\n",
        "plt.plot(history.history['accuracy'])\n",
        "plt.plot(history.history['val_accuracy'])\n",
        "plt.title('model accuracy')\n",
        "plt.ylabel('accuracy')\n",
        "plt.xlabel('epoch')\n",
        "plt.legend(['train', 'test'], loc='upper left')\n",
        "plt.show()\n",
        "# summarize history for loss\n",
        "plt.plot(history.history['loss'])\n",
        "plt.plot(history.history['val_loss'])\n",
        "plt.title('model loss')\n",
        "plt.ylabel('loss')\n",
        "plt.xlabel('epoch')\n",
        "plt.legend(['train', 'test'], loc='upper left')\n",
        "plt.show()\n",
        "\n",
        "\n"
      ],
      "metadata": {
        "colab": {
          "base_uri": "https://localhost:8080/",
          "height": 573
        },
        "id": "9Qb6PFowhdNu",
        "outputId": "1036fdbc-dd94-4aa0-bae7-518186f93b4d"
      },
      "execution_count": null,
      "outputs": [
        {
          "output_type": "display_data",
          "data": {
            "text/plain": [
              "<Figure size 432x288 with 1 Axes>"
            ],
            "image/png": "[encoded data removed]"
          },
          "metadata": {
            "needs_background": "light"
          }
        },
        {
          "output_type": "display_data",
          "data": {
            "text/plain": [
              "<Figure size 432x288 with 1 Axes>"
            ],
            "image/png": "[encoded data removed]"
          },
          "metadata": {
            "needs_background": "light"
          }
        }
      ]
    },
    {
      "cell_type": "code",
      "source": [
        "#show_history(history)"
      ],
      "metadata": {
        "colab": {
          "base_uri": "https://localhost:8080/",
          "height": 165
        },
        "id": "15bPEs89ecn2",
        "outputId": "4f61e420-a5bd-4957-9fe6-12871bd45d72"
      },
      "execution_count": null,
      "outputs": [
        {
          "output_type": "error",
          "ename": "NameError",
          "evalue": "ignored",
          "traceback": [
            "\u001b[0;31m---------------------------------------------------------------------------\u001b[0m",
            "\u001b[0;31mNameError\u001b[0m                                 Traceback (most recent call last)",
            "\u001b[0;32m<ipython-input-14-21c63b23331c>\u001b[0m in \u001b[0;36m<module>\u001b[0;34m()\u001b[0m\n\u001b[0;32m----> 1\u001b[0;31m \u001b[0mshow_history\u001b[0m\u001b[0;34m(\u001b[0m\u001b[0mhistory\u001b[0m\u001b[0;34m)\u001b[0m\u001b[0;34m\u001b[0m\u001b[0;34m\u001b[0m\u001b[0m\n\u001b[0m",
            "\u001b[0;31mNameError\u001b[0m: name 'show_history' is not defined"
          ]
        }
      ]
    },
    {
      "cell_type": "code",
      "source": [
        "model_drop = tf.keras.models.Sequential([\n",
        "    # layer 1\n",
        "    tf.keras.layers.Conv2D(36, (3,3), activation='relu', input_shape=(224, 224, 3)),\n",
        "    tf.keras.layers.MaxPooling2D(2,2),\n",
        "    # layer 2\n",
        "    tf.keras.layers.Conv2D(36, (3,3), activation = 'relu'),\n",
        "    tf.keras.layers.MaxPooling2D(2,2),\n",
        "    # layer 3\n",
        "    tf.keras.layers.Conv2D(72, (3,3), activation = 'relu'),\n",
        "    tf.keras.layers.Dropout( 0.2),\n",
        "    tf.keras.layers.MaxPooling2D(2,2),\n",
        "    # layer 4\n",
        "    tf.keras.layers.Conv2D(72, (3,3), activation = 'relu'),    \n",
        "    tf.keras.layers.Dropout( 0.2), \n",
        "    tf.keras.layers.MaxPooling2D(2,2),\n",
        "    tf.keras.layers.Flatten(),\n",
        "    # layer 5\n",
        "    tf.keras.layers.Dense(84, activation = 'relu'),\n",
        "    tf.keras.layers.Dropout( 0.2),\n",
        "    # layer 6\n",
        "    tf.keras.layers.Dense(3, activation='softmax')\n",
        "    \n",
        "])"
      ],
      "metadata": {
        "id": "W6XGsoUtRyJu"
      },
      "execution_count": null,
      "outputs": []
    },
    {
      "cell_type": "code",
      "source": [
        "model_drop.summary()\n",
        "model_drop.compile(loss = 'categorical_crossentropy', optimizer='rmsprop', metrics=['accuracy'])\n",
        "history_drop = model_drop.fit(train_gen, epochs=1, validation_data = val_gen, verbose = 1)\n"
      ],
      "metadata": {
        "colab": {
          "base_uri": "https://localhost:8080/"
        },
        "id": "wy1FG3TsSEZc",
        "outputId": "aec72449-f472-445c-864a-4addc8d20215"
      },
      "execution_count": null,
      "outputs": [
        {
          "output_type": "stream",
          "name": "stdout",
          "text": [
            "Model: \"sequential_2\"\n",
            "_________________________________________________________________\n",
            " Layer (type)                Output Shape              Param #   \n",
            "=================================================================\n",
            " conv2d_8 (Conv2D)           (None, 222, 222, 36)      1008      \n",
            "                                                                 \n",
            " max_pooling2d_6 (MaxPooling  (None, 111, 111, 36)     0         \n",
            " 2D)                                                             \n",
            "                                                                 \n",
            " conv2d_9 (Conv2D)           (None, 109, 109, 36)      11700     \n",
            "                                                                 \n",
            " max_pooling2d_7 (MaxPooling  (None, 54, 54, 36)       0         \n",
            " 2D)                                                             \n",
            "                                                                 \n",
            " conv2d_10 (Conv2D)          (None, 52, 52, 72)        23400     \n",
            "                                                                 \n",
            " dropout (Dropout)           (None, 52, 52, 72)        0         \n",
            "                                                                 \n",
            " max_pooling2d_8 (MaxPooling  (None, 26, 26, 72)       0         \n",
            " 2D)                                                             \n",
            "                                                                 \n",
            " conv2d_11 (Conv2D)          (None, 24, 24, 72)        46728     \n",
            "                                                                 \n",
            " dropout_1 (Dropout)         (None, 24, 24, 72)        0         \n",
            "                                                                 \n",
            " max_pooling2d_9 (MaxPooling  (None, 12, 12, 72)       0         \n",
            " 2D)                                                             \n",
            "                                                                 \n",
            " flatten_2 (Flatten)         (None, 10368)             0         \n",
            "                                                                 \n",
            " dense_4 (Dense)             (None, 84)                870996    \n",
            "                                                                 \n",
            " dropout_2 (Dropout)         (None, 84)                0         \n",
            "                                                                 \n",
            " dense_5 (Dense)             (None, 3)                 255       \n",
            "                                                                 \n",
            "=================================================================\n",
            "Total params: 954,087\n",
            "Trainable params: 954,087\n",
            "Non-trainable params: 0\n",
            "_________________________________________________________________\n",
            "611/611 [==============================] - 1870s 3s/step - loss: 0.4530 - accuracy: 0.8314 - val_loss: 0.4361 - val_accuracy: 0.8334\n"
          ]
        }
      ]
    },
    {
      "cell_type": "code",
      "source": [
        "\n",
        "import matplotlib.pyplot as plt\n",
        "# summarize history for accuracy\n",
        "plt.plot(history.history['accuracy'])\n",
        "plt.plot(history.history['val_accuracy'])\n",
        "plt.title('model accuracy')\n",
        "plt.ylabel('accuracy')\n",
        "plt.xlabel('epoch')\n",
        "plt.legend(['train', 'test'], loc='upper left')\n",
        "plt.show()\n",
        "# summarize history for loss\n",
        "plt.plot(history.history['loss'])\n",
        "plt.plot(history.history['val_loss'])\n",
        "plt.title('model loss')\n",
        "plt.ylabel('loss')\n",
        "plt.xlabel('epoch')\n",
        "plt.legend(['train', 'test'], loc='upper left')\n",
        "plt.show()\n"
      ],
      "metadata": {
        "colab": {
          "base_uri": "https://localhost:8080/",
          "height": 573
        },
        "id": "lsuNJhoMkfy0",
        "outputId": "dbbdbd7b-fbbe-4df6-ddaa-6a185706ff34"
      },
      "execution_count": null,
      "outputs": [
        {
          "output_type": "display_data",
          "data": {
            "text/plain": [
              "<Figure size 432x288 with 1 Axes>"
            ],
            "image/png": "[encoded data removed]"
          },
          "metadata": {
            "needs_background": "light"
          }
        },
        {
          "output_type": "display_data",
          "data": {
            "text/plain": [
              "<Figure size 432x288 with 1 Axes>"
            ],
            "image/png": "[encoded data removed]"
          },
          "metadata": {
            "needs_background": "light"
          }
        }
      ]
    }
  ],
  "metadata": {
    "colab": {
      "collapsed_sections": [],
      "name": "CV Lab",
      "provenance": [],
      "include_colab_link": true
    },
    "kernelspec": {
      "display_name": "Python 3",
      "name": "python3"
    },
    "language_info": {
      "name": "python"
    }
  },
  "nbformat": 4,
  "nbformat_minor": 0
}